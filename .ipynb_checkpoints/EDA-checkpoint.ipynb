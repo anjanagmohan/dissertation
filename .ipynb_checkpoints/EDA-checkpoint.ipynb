{
 "cells": [
  {
   "cell_type": "code",
   "execution_count": 141,
   "id": "d91f1097",
   "metadata": {},
   "outputs": [],
   "source": [
    "import pandas as pd"
   ]
  },
  {
   "cell_type": "code",
   "execution_count": 142,
   "id": "8b3bf062",
   "metadata": {},
   "outputs": [],
   "source": [
    "#Load Data\n",
    "cpi = pd.read_csv('.\\Data\\ConsumerPrice Index1960-2023.csv')\n",
    "unemp = pd.read_csv('./Data/UnemploymentUK1855-2016.csv')\n",
    "interest = pd.read_csv('./Data/Interest Rates-Long Term Bond Yields1960-2023.csv')"
   ]
  },
  {
   "cell_type": "code",
   "execution_count": 143,
   "id": "78d5d76f",
   "metadata": {},
   "outputs": [
    {
     "name": "stdout",
     "output_type": "stream",
     "text": [
      "         DATE  CPALTT01GBM659N\n",
      "0  1960-01-01        -0.452899\n",
      "1  1960-02-01        -0.362647\n",
      "2  1960-03-01        -0.543971\n",
      "3  1960-04-01         0.730594\n",
      "4  1960-05-01         1.099908\n",
      "         DATE  AURUKM\n",
      "0  1855-01-01    3.42\n",
      "1  1855-02-01    4.04\n",
      "2  1855-03-01    4.20\n",
      "3  1855-04-01    4.14\n",
      "4  1855-05-01    3.64\n",
      "         DATE  IRLTLT01GBM156N\n",
      "0  1960-01-01             5.33\n",
      "1  1960-02-01             5.40\n",
      "2  1960-03-01             5.59\n",
      "3  1960-04-01             5.67\n",
      "4  1960-05-01             5.69\n"
     ]
    }
   ],
   "source": [
    "print(cpi.head())\n",
    "print(unemp.head())\n",
    "print(interest.head())"
   ]
  },
  {
   "cell_type": "code",
   "execution_count": 144,
   "id": "6ba110e4",
   "metadata": {},
   "outputs": [
    {
     "name": "stdout",
     "output_type": "stream",
     "text": [
      "(760, 2)\n",
      "(1944, 2)\n",
      "(761, 2)\n"
     ]
    }
   ],
   "source": [
    "print(cpi.shape)\n",
    "print(unemp.shape)\n",
    "print(interest.shape)"
   ]
  },
  {
   "cell_type": "code",
   "execution_count": 145,
   "id": "a8142b43",
   "metadata": {},
   "outputs": [],
   "source": [
    "start_date = pd.to_datetime('01-01-1990')\n",
    "end_date = pd.to_datetime('12-01-2010')"
   ]
  },
  {
   "cell_type": "code",
   "execution_count": 146,
   "id": "fe7109a7",
   "metadata": {},
   "outputs": [],
   "source": [
    "unemp['DATE'] = pd.to_datetime(unemp['DATE'])\n",
    "cpi['DATE'] = pd.to_datetime(cpi['DATE'])\n",
    "interest['DATE']=pd.to_datetime(interest['DATE'])"
   ]
  },
  {
   "cell_type": "code",
   "execution_count": 147,
   "id": "2768aed0",
   "metadata": {},
   "outputs": [
    {
     "data": {
      "text/html": [
       "<div>\n",
       "<style scoped>\n",
       "    .dataframe tbody tr th:only-of-type {\n",
       "        vertical-align: middle;\n",
       "    }\n",
       "\n",
       "    .dataframe tbody tr th {\n",
       "        vertical-align: top;\n",
       "    }\n",
       "\n",
       "    .dataframe thead th {\n",
       "        text-align: right;\n",
       "    }\n",
       "</style>\n",
       "<table border=\"1\" class=\"dataframe\">\n",
       "  <thead>\n",
       "    <tr style=\"text-align: right;\">\n",
       "      <th></th>\n",
       "      <th>DATE</th>\n",
       "      <th>AURUKM</th>\n",
       "    </tr>\n",
       "  </thead>\n",
       "  <tbody>\n",
       "    <tr>\n",
       "      <th>0</th>\n",
       "      <td>1855-01-01</td>\n",
       "      <td>3.42</td>\n",
       "    </tr>\n",
       "    <tr>\n",
       "      <th>1</th>\n",
       "      <td>1855-02-01</td>\n",
       "      <td>4.04</td>\n",
       "    </tr>\n",
       "    <tr>\n",
       "      <th>2</th>\n",
       "      <td>1855-03-01</td>\n",
       "      <td>4.20</td>\n",
       "    </tr>\n",
       "    <tr>\n",
       "      <th>3</th>\n",
       "      <td>1855-04-01</td>\n",
       "      <td>4.14</td>\n",
       "    </tr>\n",
       "    <tr>\n",
       "      <th>4</th>\n",
       "      <td>1855-05-01</td>\n",
       "      <td>3.64</td>\n",
       "    </tr>\n",
       "    <tr>\n",
       "      <th>...</th>\n",
       "      <td>...</td>\n",
       "      <td>...</td>\n",
       "    </tr>\n",
       "    <tr>\n",
       "      <th>1939</th>\n",
       "      <td>2016-08-01</td>\n",
       "      <td>4.80</td>\n",
       "    </tr>\n",
       "    <tr>\n",
       "      <th>1940</th>\n",
       "      <td>2016-09-01</td>\n",
       "      <td>4.80</td>\n",
       "    </tr>\n",
       "    <tr>\n",
       "      <th>1941</th>\n",
       "      <td>2016-10-01</td>\n",
       "      <td>4.80</td>\n",
       "    </tr>\n",
       "    <tr>\n",
       "      <th>1942</th>\n",
       "      <td>2016-11-01</td>\n",
       "      <td>4.80</td>\n",
       "    </tr>\n",
       "    <tr>\n",
       "      <th>1943</th>\n",
       "      <td>2016-12-01</td>\n",
       "      <td>4.70</td>\n",
       "    </tr>\n",
       "  </tbody>\n",
       "</table>\n",
       "<p>1944 rows × 2 columns</p>\n",
       "</div>"
      ],
      "text/plain": [
       "           DATE  AURUKM\n",
       "0    1855-01-01    3.42\n",
       "1    1855-02-01    4.04\n",
       "2    1855-03-01    4.20\n",
       "3    1855-04-01    4.14\n",
       "4    1855-05-01    3.64\n",
       "...         ...     ...\n",
       "1939 2016-08-01    4.80\n",
       "1940 2016-09-01    4.80\n",
       "1941 2016-10-01    4.80\n",
       "1942 2016-11-01    4.80\n",
       "1943 2016-12-01    4.70\n",
       "\n",
       "[1944 rows x 2 columns]"
      ]
     },
     "execution_count": 147,
     "metadata": {},
     "output_type": "execute_result"
    }
   ],
   "source": [
    "unemp\n",
    "\n",
    "\n"
   ]
  },
  {
   "cell_type": "code",
   "execution_count": 148,
   "id": "6ec78c1b",
   "metadata": {},
   "outputs": [],
   "source": [
    "unemp = unemp[(unemp['DATE'] >= start_date) & (unemp['DATE'] <= end_date)]\n",
    "cpi = cpi[(cpi['DATE']>=start_date)&(cpi['DATE']<=end_date)]\n",
    "interest = interest[(interest['DATE']>=start_date)&(interest['DATE']<=end_date)]"
   ]
  },
  {
   "cell_type": "code",
   "execution_count": 149,
   "id": "bfbc82a9",
   "metadata": {},
   "outputs": [],
   "source": [
    "# Reset the indexes of the DataFrames\n",
    "cpi_reset = cpi.reset_index(drop=True)\n",
    "unemp_reset = unemp.reset_index(drop=True)"
   ]
  },
  {
   "cell_type": "code",
   "execution_count": 150,
   "id": "f725fee1",
   "metadata": {},
   "outputs": [],
   "source": [
    "concatenated_df = pd.concat([cpi_reset[['DATE', 'CPALTT01GBM659N']], unemp_reset['AURUKM']], axis=1)\n"
   ]
  },
  {
   "cell_type": "code",
   "execution_count": 151,
   "id": "ffb241e0",
   "metadata": {},
   "outputs": [
    {
     "data": {
      "text/html": [
       "<div>\n",
       "<style scoped>\n",
       "    .dataframe tbody tr th:only-of-type {\n",
       "        vertical-align: middle;\n",
       "    }\n",
       "\n",
       "    .dataframe tbody tr th {\n",
       "        vertical-align: top;\n",
       "    }\n",
       "\n",
       "    .dataframe thead th {\n",
       "        text-align: right;\n",
       "    }\n",
       "</style>\n",
       "<table border=\"1\" class=\"dataframe\">\n",
       "  <thead>\n",
       "    <tr style=\"text-align: right;\">\n",
       "      <th></th>\n",
       "      <th>DATE</th>\n",
       "      <th>CPALTT01GBM659N</th>\n",
       "      <th>AURUKM</th>\n",
       "    </tr>\n",
       "  </thead>\n",
       "  <tbody>\n",
       "    <tr>\n",
       "      <th>0</th>\n",
       "      <td>1990-01-01</td>\n",
       "      <td>5.9</td>\n",
       "      <td>6.9</td>\n",
       "    </tr>\n",
       "    <tr>\n",
       "      <th>1</th>\n",
       "      <td>1990-02-01</td>\n",
       "      <td>6.3</td>\n",
       "      <td>6.9</td>\n",
       "    </tr>\n",
       "    <tr>\n",
       "      <th>2</th>\n",
       "      <td>1990-03-01</td>\n",
       "      <td>6.2</td>\n",
       "      <td>6.9</td>\n",
       "    </tr>\n",
       "    <tr>\n",
       "      <th>3</th>\n",
       "      <td>1990-04-01</td>\n",
       "      <td>7.7</td>\n",
       "      <td>6.9</td>\n",
       "    </tr>\n",
       "    <tr>\n",
       "      <th>4</th>\n",
       "      <td>1990-05-01</td>\n",
       "      <td>8.2</td>\n",
       "      <td>6.9</td>\n",
       "    </tr>\n",
       "    <tr>\n",
       "      <th>...</th>\n",
       "      <td>...</td>\n",
       "      <td>...</td>\n",
       "      <td>...</td>\n",
       "    </tr>\n",
       "    <tr>\n",
       "      <th>247</th>\n",
       "      <td>2010-08-01</td>\n",
       "      <td>2.4</td>\n",
       "      <td>7.8</td>\n",
       "    </tr>\n",
       "    <tr>\n",
       "      <th>248</th>\n",
       "      <td>2010-09-01</td>\n",
       "      <td>2.4</td>\n",
       "      <td>7.9</td>\n",
       "    </tr>\n",
       "    <tr>\n",
       "      <th>249</th>\n",
       "      <td>2010-10-01</td>\n",
       "      <td>2.5</td>\n",
       "      <td>7.9</td>\n",
       "    </tr>\n",
       "    <tr>\n",
       "      <th>250</th>\n",
       "      <td>2010-11-01</td>\n",
       "      <td>2.6</td>\n",
       "      <td>7.9</td>\n",
       "    </tr>\n",
       "    <tr>\n",
       "      <th>251</th>\n",
       "      <td>2010-12-01</td>\n",
       "      <td>3.1</td>\n",
       "      <td>7.9</td>\n",
       "    </tr>\n",
       "  </tbody>\n",
       "</table>\n",
       "<p>252 rows × 3 columns</p>\n",
       "</div>"
      ],
      "text/plain": [
       "          DATE  CPALTT01GBM659N  AURUKM\n",
       "0   1990-01-01              5.9     6.9\n",
       "1   1990-02-01              6.3     6.9\n",
       "2   1990-03-01              6.2     6.9\n",
       "3   1990-04-01              7.7     6.9\n",
       "4   1990-05-01              8.2     6.9\n",
       "..         ...              ...     ...\n",
       "247 2010-08-01              2.4     7.8\n",
       "248 2010-09-01              2.4     7.9\n",
       "249 2010-10-01              2.5     7.9\n",
       "250 2010-11-01              2.6     7.9\n",
       "251 2010-12-01              3.1     7.9\n",
       "\n",
       "[252 rows x 3 columns]"
      ]
     },
     "execution_count": 151,
     "metadata": {},
     "output_type": "execute_result"
    }
   ],
   "source": [
    "concatenated_df\n"
   ]
  },
  {
   "cell_type": "code",
   "execution_count": null,
   "id": "b2eb463d",
   "metadata": {},
   "outputs": [],
   "source": []
  }
 ],
 "metadata": {
  "kernelspec": {
   "display_name": "Python 3 (ipykernel)",
   "language": "python",
   "name": "python3"
  },
  "language_info": {
   "codemirror_mode": {
    "name": "ipython",
    "version": 3
   },
   "file_extension": ".py",
   "mimetype": "text/x-python",
   "name": "python",
   "nbconvert_exporter": "python",
   "pygments_lexer": "ipython3",
   "version": "3.10.9"
  }
 },
 "nbformat": 4,
 "nbformat_minor": 5
}
